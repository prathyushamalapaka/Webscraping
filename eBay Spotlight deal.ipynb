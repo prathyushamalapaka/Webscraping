{
 "cells": [
  {
   "cell_type": "code",
   "execution_count": 1,
   "metadata": {
    "id": "j9aJftHski1a"
   },
   "outputs": [],
   "source": [
    "from bs4 import BeautifulSoup\n",
    "import requests"
   ]
  },
  {
   "cell_type": "markdown",
   "metadata": {
    "id": "aot8tqfPj51W"
   },
   "source": [
    "Goal: The goal of this assignment is to access ebay.com/deals and return the information of the spotlight deal. \n",
    "Specifically, we are looking for output of the Product Name, Original Price and Reduced Price for the current day's deal. \n",
    "\n",
    "Process: In order to achieve this, we utilized webscraping methods. First, we linked the page url to the code. Then, using Beautiful Soup, we pulled out the product details we need from the HTML. \n",
    "\n",
    "Steps: The product name, original price and new price were scraped using the soup.select() statement within the main() function. To print each output, we created for loops. Finally, we created an except statement to mitigate any issues should they occur. These issues would include url specific changes if ebay were to change this url in the future. "
   ]
  },
  {
   "cell_type": "code",
   "execution_count": 2,
   "metadata": {
    "colab": {
     "base_uri": "https://localhost:8080/"
    },
    "id": "LzrXfAYYkyEA",
    "outputId": "974ca7e0-c8b1-4b76-951a-ae0cf7823023"
   },
   "outputs": [
    {
     "name": "stdout",
     "output_type": "stream",
     "text": [
      "Product Name: Sony WH-1000XM4 Wireless Noise-Cancelling Over-the-Ear Headphones - Black\n",
      "Previous price: $349.99 49% off\n",
      "Discounted price: $179.99\n"
     ]
    }
   ],
   "source": [
    "def main():\n",
    "    try:\n",
    "        url= \"https://www.ebay.com/deals\"\n",
    "        page = requests.get(url)\n",
    "# Create a beautifulsoup object \n",
    "        soup = BeautifulSoup(page.text, 'lxml')\n",
    "        product_title = soup.select(\"#refit-spf-container > div.sections-container > div.ebayui-dne-featured-card.ebayui-dne-featured-with-padding > div.ebayui-dne-summary-card.card.ebayui-dne-item-featured-card--topDeals.ebayui-dne-featured-with-carousel > div > div > div > a > h3 > span > span\")\n",
    "        current_price = soup.select(\"#refit-spf-container > div.sections-container > div.ebayui-dne-featured-card.ebayui-dne-featured-with-padding > div.ebayui-dne-summary-card.card.ebayui-dne-item-featured-card--topDeals.ebayui-dne-featured-with-carousel > div > div > div > div > span.first\")\n",
    "        original_price = soup.select(\"#refit-spf-container > div.sections-container > div.ebayui-dne-featured-card.ebayui-dne-featured-with-padding > div.ebayui-dne-summary-card.card.ebayui-dne-item-featured-card--topDeals.ebayui-dne-featured-with-carousel > div > div > div.dne-itemtile-detail > div.dne-itemtile-original-price > span.clipped\")\n",
    "        for product in product_title:\n",
    "            print(\"Product Name: \"+ product.text)\n",
    "        for original in original_price:\n",
    "            print(original.text)\n",
    "        for newprice in current_price:\n",
    "            print(\"Discounted price: \" + newprice.text)  \n",
    "        \n",
    "  \n",
    "    except:\n",
    "        print(\"Problem with the connection...\")\n",
    "if __name__ == '__main__':\n",
    "    main()\n"
   ]
  }
 ],
 "metadata": {
  "colab": {
   "collapsed_sections": [],
   "name": "DDR-webscraping.ipynb",
   "provenance": []
  },
  "kernelspec": {
   "display_name": "Python 3",
   "language": "python",
   "name": "python3"
  },
  "language_info": {
   "codemirror_mode": {
    "name": "ipython",
    "version": 3
   },
   "file_extension": ".py",
   "mimetype": "text/x-python",
   "name": "python",
   "nbconvert_exporter": "python",
   "pygments_lexer": "ipython3",
   "version": "3.8.8"
  }
 },
 "nbformat": 4,
 "nbformat_minor": 1
}
