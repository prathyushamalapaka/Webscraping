{
 "cells": [
  {
   "cell_type": "markdown",
   "id": "fae71de4",
   "metadata": {},
   "source": [
    "### Extracting the Barnes and Noble website for certain requirements as mentioned below"
   ]
  },
  {
   "cell_type": "code",
   "execution_count": 1,
   "id": "297b11dc",
   "metadata": {},
   "outputs": [],
   "source": [
    "from bs4 import BeautifulSoup\n",
    "import requests"
   ]
  },
  {
   "cell_type": "code",
   "execution_count": 2,
   "id": "f15e56ff",
   "metadata": {},
   "outputs": [],
   "source": [
    "books=\"https://www.barnesandnoble.com/b/books/_/N-1fZ29Z8q8?Nrpp=40&page=1\"\n",
    "header = {\"user-agent\": \"Mozilla/5.0 (Windows NT 10.0; Win64; x64) AppleWebKit/537.36 (KHTML, like Gecko) Chrome/74.0.3729.169 Safari/537.36\" ,\n",
    "\"authority\": \"www.tagesschau.de\",\n",
    "\"method\": \"GET\",\n",
    "\"path\":\"/\",\n",
    "\"scheme\":\"https\",\n",
    "\"accept\": \"text/html,application/xhtml+xml,application/xml;q=0.9,image/webp,image/apng,*/*;q=0.8,application/signed-exchange;v=b3;q=0.9\",\n",
    "\"accept-encoding\": \"gzip, deflate, br\",\n",
    "\"accept-language\": \"en-US,en;q=0.9,de;q=0.8\",\n",
    "\"cache-control\": \"max-age=0\",\n",
    "\"cookie\": \"atuserid=%7B%22name%22%3A%22atuserid%22%2C%22val%22%3A%2257ea5dd6-4c35-4982-942f-8a7f8b8c3a4b%22%2C%22options%22%3A%7B%22end%22%3A%222023-02-17T05%3A02%3A59.936Z%22%2C%22path%22%3A%22%2F%22%7D%7D; atidvisitor=%7B%22name%22%3A%22atidvisitor%22%2C%22val%22%3A%7B%22vrn%22%3A%22-595936-%22%7D%2C%22options%22%3A%7B%22path%22%3A%22%2F%22%2C%22session%22%3A15724800%2C%22end%22%3A15724800%7D%7D\",\n",
    "\"sec-ch-ua-mobile\": \"?0\",\n",
    "\"sec-ch-ua-platform\": \"Windows\",\n",
    "\"sec-fetch-dest\": \"document\",\n",
    "\"sec-fetch-mode\": \"navigate\",\n",
    "\"sec-fetch-site\": \"none\",\n",
    "\"sec-fetch-user\": \"?1\",\n",
    "\"upgrade-insecure-requests\": \"1\"}"
   ]
  },
  {
   "cell_type": "code",
   "execution_count": 3,
   "id": "9781d685",
   "metadata": {},
   "outputs": [],
   "source": [
    "def loadString(f=\"test.html\"):\n",
    "    try:\n",
    "        html = open(f, \"r\", encoding='utf-8').read()\n",
    "        return(html)\n",
    "    except Exception as ex:\n",
    "        print('Error: ' + str(ex))\n",
    "        \n",
    "def saveString(html, filename):\n",
    "    try:\n",
    "        file = open(filename,\"w\",encoding=\"utf-8\")\n",
    "        file.write(str(html))\n",
    "        file.close()\n",
    "    except Exception as ex:\n",
    "        print('Error: ' + str(ex))"
   ]
  },
  {
   "cell_type": "code",
   "execution_count": 4,
   "id": "ec6ec9af",
   "metadata": {},
   "outputs": [],
   "source": [
    "page_books = requests.get(url = books, headers = header) "
   ]
  },
  {
   "cell_type": "markdown",
   "id": "0f550ab1",
   "metadata": {},
   "source": [
    "**Question-1: Use the URL identified above and write code that loads the first page with 40 items per page of “B&N Top 100”.**"
   ]
  },
  {
   "cell_type": "code",
   "execution_count": 5,
   "id": "59d49975",
   "metadata": {},
   "outputs": [],
   "source": [
    "page = 1\n",
    "titles=[]\n",
    "while page!=2:\n",
    "    html = page_books.content\n",
    "    soup = BeautifulSoup(html, \"lxml\")\n",
    "    for h3 in soup.find_all(\"h3\", class_=\"product-info-title\"):\n",
    "         titles.append(h3.get_text(strip=True))\n",
    "    page = page + 1"
   ]
  },
  {
   "cell_type": "code",
   "execution_count": 6,
   "id": "639600a3",
   "metadata": {
    "scrolled": false
   },
   "outputs": [
    {
     "data": {
      "text/plain": [
       "['The Great Reset: Joe Biden and the Rise of Twenty-First-Century Fascism(01/11/2022)',\n",
       " \"The Complete Maus: A Survivor's Tale(11/19/1996)\",\n",
       " \"Maus I: A Survivor's Tale: My Father Bleeds History(08/12/1986)\",\n",
       " 'Maus I & II Paperback Box Set(10/19/1993)',\n",
       " \"Maus II: A Survivor's Tale: And Here My Troubles Began(09/01/1992)\",\n",
       " 'Court (B&N Exclusive Edition) (Crave Series #4)(02/01/2022)',\n",
       " 'This Woven Kingdom (Signed Book)(02/01/2022)',\n",
       " 'Black Faces, White Spaces: Reimagining the Relationship of African Americans to the Great Outdoors(06/01/2014)',\n",
       " 'House of Sky and Breath (Crescent City Series #2)(02/15/2022)',\n",
       " 'Our Journey Together(12/07/2021)',\n",
       " 'Red-Handed: How American Elites Get Rich Helping China Win(01/25/2022)',\n",
       " 'The Overnight Guest(01/25/2022)',\n",
       " 'It Ends with Us(08/02/2016)',\n",
       " 'The Family Chao (Barnes & Noble Book Club Pick)(02/01/2022)',\n",
       " 'Reminders of Him: A Novel(01/18/2022)',\n",
       " 'Atlas of the Heart: Mapping Meaningful Connection and the Language of Human Experience(11/30/2021)',\n",
       " 'The Accidental Apprentice(02/01/2022)',\n",
       " 'Chainsaw Man, Vol. 9(02/01/2022)',\n",
       " 'Anatomy: A Love Story (Barnes & Noble YA Book Club Edition)(02/01/2022)',\n",
       " 'Verity(10/26/2021)',\n",
       " 'The Mothers and Daughters of the Bible Speak: Lessons on Faith from Nine Biblical Families(03/29/2022)',\n",
       " 'The Seven Husbands of Evelyn Hugo: A Novel(05/29/2018)',\n",
       " 'The Love Hypothesis(09/14/2021)',\n",
       " 'Home Is Where the Eggs Are(09/27/2022)',\n",
       " 'Demon Slayer: Kimetsu no Yaiba, Vol. 6(05/07/2019)',\n",
       " 'Jujutsu Kaisen, Vol. 14(02/01/2022)',\n",
       " 'Ugly Love(08/05/2014)',\n",
       " 'Dilla Time: The Life and Afterlife of J Dilla, the Hip-Hop Producer Who Reinvented Rhythm(02/01/2022)',\n",
       " \"A Good Girl's Guide to Murder (A Good Girl's Guide to Murder #1)(01/05/2021)\",\n",
       " 'The TB12 Method: How to Do What You Love, Better and for Longer(07/28/2020)',\n",
       " 'Legendborn(02/01/2022)',\n",
       " '1984(07/01/1950)',\n",
       " 'Twisted Hate - Special Edition(01/27/2022)',\n",
       " 'Demon Slayer: Kimetsu no Yaiba, Vol. 10(01/07/2020)',\n",
       " 'Black Cake(02/01/2022)',\n",
       " 'I Love You More and More - B&N Gift Edition(01/04/2022)',\n",
       " 'The Spanish Love Deception(02/08/2022)',\n",
       " 'Powers and Thrones: A New History of the Middle Ages(11/09/2021)',\n",
       " 'Run, Rose, Run(03/07/2022)',\n",
       " 'The Midnight Library(09/29/2020)']"
      ]
     },
     "execution_count": 6,
     "metadata": {},
     "output_type": "execute_result"
    }
   ],
   "source": [
    "titles"
   ]
  },
  {
   "cell_type": "markdown",
   "id": "66d51c6d",
   "metadata": {},
   "source": [
    "**Question-2: Take your code in (a) and create a list of each book’s product page URL. This list should be of length 40**"
   ]
  },
  {
   "cell_type": "code",
   "execution_count": 7,
   "id": "83282e33",
   "metadata": {
    "scrolled": false
   },
   "outputs": [
    {
     "name": "stdout",
     "output_type": "stream",
     "text": [
      "['https://www.barnesandnoble.com/w/the-great-reset-glenn-beck/1140278197;jsessionid=AAB7D316E13FB31FA065A209523C823B.prodny_store01-atgap09?ean=9781637630594', 'https://www.barnesandnoble.com/w/complete-maus-art-spiegelman/1103275791;jsessionid=AAB7D316E13FB31FA065A209523C823B.prodny_store01-atgap09?ean=9780679406419', 'https://www.barnesandnoble.com/w/maus-i-art-spiegelman/1101798806;jsessionid=AAB7D316E13FB31FA065A209523C823B.prodny_store01-atgap09?ean=9780394747231', 'https://www.barnesandnoble.com/w/maus-art-spiegelman/1102082108;jsessionid=AAB7D316E13FB31FA065A209523C823B.prodny_store01-atgap09?ean=9780679748403', 'https://www.barnesandnoble.com/w/maus-ii-art-spiegelman/1100752960;jsessionid=AAB7D316E13FB31FA065A209523C823B.prodny_store01-atgap09?ean=9780679729778', 'https://www.barnesandnoble.com/w/court-tracy-wolff/1137898201;jsessionid=AAB7D316E13FB31FA065A209523C823B.prodny_store01-atgap09?ean=9781649371805', 'https://www.barnesandnoble.com/w/this-woven-kingdom-tahereh-mafi/1139612850;jsessionid=AAB7D316E13FB31FA065A209523C823B.prodny_store01-atgap09?ean=9780063236325', 'https://www.barnesandnoble.com/w/black-faces-white-spaces-carolyn-finney/1116998139;jsessionid=AAB7D316E13FB31FA065A209523C823B.prodny_store01-atgap09?ean=9781469614489', 'https://www.barnesandnoble.com/w/house-of-sky-and-breath-sarah-j-maas/1139427333;jsessionid=AAB7D316E13FB31FA065A209523C823B.prodny_store01-atgap09?ean=9781635574074', 'https://www.barnesandnoble.com/w/our-journey-together-donald-j-trump/1140552452;jsessionid=AAB7D316E13FB31FA065A209523C823B.prodny_store01-atgap09?ean=9781735503721', 'https://www.barnesandnoble.com/w/red-handed-peter-schweizer/1140863725;jsessionid=AAB7D316E13FB31FA065A209523C823B.prodny_store01-atgap09?ean=9780063061149', 'https://www.barnesandnoble.com/w/the-overnight-guest-heather-gudenkauf/1139091726;jsessionid=AAB7D316E13FB31FA065A209523C823B.prodny_store01-atgap09?ean=9780778311935', 'https://www.barnesandnoble.com/w/it-ends-with-us-colleen-hoover/1122858647;jsessionid=AAB7D316E13FB31FA065A209523C823B.prodny_store01-atgap09?ean=9781501110368', 'https://www.barnesandnoble.com/w/the-family-chao-lan-samantha-chang/1139522031;jsessionid=AAB7D316E13FB31FA065A209523C823B.prodny_store01-atgap09?ean=9780393868074', 'https://www.barnesandnoble.com/w/reminders-of-him-colleen-hoover/1139730783;jsessionid=AAB7D316E13FB31FA065A209523C823B.prodny_store01-atgap09?ean=9781542025607', 'https://www.barnesandnoble.com/w/atlas-of-the-heart-bren-brown/1140074986;jsessionid=AAB7D316E13FB31FA065A209523C823B.prodny_store01-atgap09?ean=9780399592553', 'https://www.barnesandnoble.com/w/the-accidental-apprentice-amanda-foody/1137251704;jsessionid=AAB7D316E13FB31FA065A209523C823B.prodny_store01-atgap09?ean=9781534477575', 'https://www.barnesandnoble.com/w/chainsaw-man-vol-9-tatsuki-fujimoto/1139746833;jsessionid=AAB7D316E13FB31FA065A209523C823B.prodny_store01-atgap09?ean=9781974724048', 'https://www.barnesandnoble.com/w/anatomy-dana-schwartz/1139361564;jsessionid=AAB7D316E13FB31FA065A209523C823B.prodny_store01-atgap09?ean=9781250865069', 'https://www.barnesandnoble.com/w/verity-colleen-hoover/1130171830;jsessionid=AAB7D316E13FB31FA065A209523C823B.prodny_store01-atgap09?ean=9781538724736', 'https://www.barnesandnoble.com/w/the-mothers-and-daughters-of-the-bible-speak-shannon-bream/1140949301;jsessionid=AAB7D316E13FB31FA065A209523C823B.prodny_store01-atgap09?ean=9780063225886', 'https://www.barnesandnoble.com/w/the-seven-husbands-of-evelyn-hugo-taylor-jenkins-reid/1124863869;jsessionid=AAB7D316E13FB31FA065A209523C823B.prodny_store01-atgap09?ean=9781501161933', 'https://www.barnesandnoble.com/w/the-love-hypothesis-ali-hazelwood/1138635323;jsessionid=AAB7D316E13FB31FA065A209523C823B.prodny_store01-atgap09?ean=9780593336823', 'https://www.barnesandnoble.com/w/home-is-where-the-eggs-are-molly-yeh/1140949197;jsessionid=AAB7D316E13FB31FA065A209523C823B.prodny_store01-atgap09?ean=9780063052413', 'https://www.barnesandnoble.com/w/demon-slayer-koyoharu-gotouge/1129794903;jsessionid=AAB7D316E13FB31FA065A209523C823B.prodny_store01-atgap09?ean=9781974700578', 'https://www.barnesandnoble.com/w/jujutsu-kaisen-vol-14-gege-akutami/1139746882;jsessionid=AAB7D316E13FB31FA065A209523C823B.prodny_store01-atgap09?ean=9781974725328', 'https://www.barnesandnoble.com/w/ugly-love-colleen-hoover/1117703928;jsessionid=AAB7D316E13FB31FA065A209523C823B.prodny_store01-atgap09?ean=9781476753188', 'https://www.barnesandnoble.com/w/dilla-time-dan-charnas/1140323921;jsessionid=AAB7D316E13FB31FA065A209523C823B.prodny_store01-atgap09?ean=9780374139940', 'https://www.barnesandnoble.com/w/a-good-girls-guide-to-murder-holly-jackson/1132077937;jsessionid=AAB7D316E13FB31FA065A209523C823B.prodny_store01-atgap09?ean=9781984896391', 'https://www.barnesandnoble.com/w/the-tb12-method-tom-brady/1126695644;jsessionid=AAB7D316E13FB31FA065A209523C823B.prodny_store01-atgap09?ean=9781501180743', 'https://www.barnesandnoble.com/w/legendborn-tracy-deonn/1136314591;jsessionid=AAB7D316E13FB31FA065A209523C823B.prodny_store01-atgap09?ean=9781534441613', 'https://www.barnesandnoble.com/w/1984-george-orwell/1100009100;jsessionid=AAB7D316E13FB31FA065A209523C823B.prodny_store01-atgap09?ean=9780451524935', 'https://www.barnesandnoble.com/w/twisted-hate-special-edition-ana-huang/1140933968;jsessionid=AAB7D316E13FB31FA065A209523C823B.prodny_store01-atgap09?ean=9781735056692', 'https://www.barnesandnoble.com/w/demon-slayer-koyoharu-gotouge/1132292967;jsessionid=AAB7D316E13FB31FA065A209523C823B.prodny_store01-atgap09?ean=9781974704552', 'https://www.barnesandnoble.com/w/black-cake-charmaine-wilkerson/1139395183;jsessionid=AAB7D316E13FB31FA065A209523C823B.prodny_store01-atgap09?ean=9780593358337', 'https://www.barnesandnoble.com/w/i-love-you-more-and-more-b-n-gift-edition-nicky-benson/1140033997;jsessionid=AAB7D316E13FB31FA065A209523C823B.prodny_store01-atgap09?ean=9781680107241', 'https://www.barnesandnoble.com/w/the-spanish-love-deception-elena-armas/1138886448;jsessionid=AAB7D316E13FB31FA065A209523C823B.prodny_store01-atgap09?ean=9781668002520', 'https://www.barnesandnoble.com/w/powers-and-thrones-dan-jones/1138639420;jsessionid=AAB7D316E13FB31FA065A209523C823B.prodny_store01-atgap09?ean=9781984880871', 'https://www.barnesandnoble.com/w/run-rose-run-dolly-parton-and-james-patterson/1139993637;jsessionid=AAB7D316E13FB31FA065A209523C823B.prodny_store01-atgap09?ean=9780759554344', 'https://www.barnesandnoble.com/w/the-midnight-library-matt-haig/1136586832;jsessionid=AAB7D316E13FB31FA065A209523C823B.prodny_store01-atgap09?ean=9780525559474']\n"
     ]
    }
   ],
   "source": [
    "import pandas as pd## html = page_lgphone.content\n",
    "   # soup = BeautifulSoup(html, \"lxml\")\n",
    "ab=soup.find_all(\"h3\", class_=\"product-info-title\")\n",
    "list=[]\n",
    "for bcd in ab:\n",
    "    product_link = \"https://www.barnesandnoble.com\" + bcd.a.get('href')\n",
    "    list.append(product_link)\n",
    "\n",
    "print(list)"
   ]
  },
  {
   "cell_type": "markdown",
   "id": "04b320b1",
   "metadata": {},
   "source": [
    "**Question-3: Write a loop that downloads each product page of the top 40 books in “B&N Top 100”. I.e., save each of these pages to your computer using a meaningful filename (e.g., \"bn_top100_01.htm\"). IMPORTANT: Each page request needs to be followed by at least a 5 second pause! Remember, you want your program to mimic your behavior as a human and help you make good purchasing decisions.**"
   ]
  },
  {
   "cell_type": "code",
   "execution_count": 8,
   "id": "8264d850",
   "metadata": {
    "scrolled": true
   },
   "outputs": [],
   "source": [
    "import time\n",
    "\n",
    "for link in list:\n",
    "\n",
    "    #url2 =f\"https://www.barnesandnoble.com/b/books/_/N-1fZ29Z8q8?Nrpp={i+1}&page=1\"\n",
    "    books_page2 = requests.get(link, headers = header)\n",
    "    soup = BeautifulSoup(books_page2.content, \"html.parser\")\n",
    "\n",
    "    saveString(soup, filename=\"book_no\"+str(list.index(link)+1)+\".html\")"
   ]
  },
  {
   "cell_type": "markdown",
   "id": "1943e4ee",
   "metadata": {},
   "source": [
    "**Question-4: Write a separate piece of code that loops through the pages you downloaded in (c), opens and parses them into a Python or Java xxxxsoup-object. Next, access the “Overview” section of the page and print the first 100 characters of the overview text to screen.**"
   ]
  },
  {
   "cell_type": "code",
   "execution_count": 9,
   "id": "4b3b4f32",
   "metadata": {},
   "outputs": [],
   "source": [
    "with open(\"book_no.html\", encoding=\"utf8\") as file:\n",
    "        contents = file.read()"
   ]
  },
  {
   "cell_type": "code",
   "execution_count": 10,
   "id": "cf9cc8d6",
   "metadata": {},
   "outputs": [],
   "source": [
    "books_parsed = BeautifulSoup(contents,'lxml')\n",
    "ab= books_parsed.findAll(\"li\", {\"class\" : \"pb-s mt-m bd-bottom-disabled-gray record list-view-data\"})\n",
    "for l in ab:\n",
    "    print(f\"Product name : {l.find_all('h3')[0].text}\")\n",
    "    print(f\"Link : https://www.barnesandnoble.com{l.a.get('href')}\")\n",
    "    print(\"\\n\")"
   ]
  },
  {
   "cell_type": "code",
   "execution_count": 11,
   "id": "d7df266e",
   "metadata": {},
   "outputs": [
    {
     "name": "stdout",
     "output_type": "stream",
     "text": [
      "\n",
      "In The Great Reset: Joe Biden and the Rise of Twenty-First-Century Fascism, New York Times bestsell\n",
      "\n",
      "PULITZER PRIZE WINNER • The definitive edition of the graphic novel acclaimed as “the most affectin\n",
      "\n",
      "The first installment of the Pulitzer Prize-winning graphic novel acclaimed as “the most affecting \n",
      "\n",
      "The paperback boxed set of the Pulitzer Prize-winning graphic novel in its original two-volume form\n",
      "\n",
      "The second installment of the Pulitzer Prize-winning graphic novel acclaimed as “the most affecting\n",
      "\n",
      "The B&N Exclusive Edition includes special-edition Dragon Court–themed endpapers, plus exclusive bo\n",
      "\n",
      "Clashing empires, forbidden romance, and a long-forgotten queen destined to save her people—bestsel\n",
      "\n",
      "Why are African Americans so underrepresented when it comes to interest in nature, outdoor recreati\n",
      "\n",
      "Sequel to the #1 New York Times bestseller!Sarah J. Maas's sexy, groundbreaking CRESCENT CITY serie\n",
      "\n",
      "President Donald J. Trump's first official book since leaving the White House. This photo book capt\n",
      "\n",
      "Peter Schweizer says that, in a quarter-century as an investigative journalist, this is the scaries\n",
      "\n",
      "A woman receives an unexpected visitor during a deadly snowstorm in this chilling thriller from New\n",
      "\n",
      "In this “brave and heartbreaking novel that digs its claws into you and doesn’t let go, long after \n",
      "\n",
      "One of Literary Hub's and The Millions' Most Anticipated Books of 2022 A Goodreads Readers' Most An\n",
      "\n",
      "A troubled young mother yearns for a shot at redemption in this heartbreaking yet hopeful story fro\n",
      "\n",
      "#1 NEW YORK TIMES BESTSELLER • In her latest book, Brené Brown writes, “If we want to find the way \n",
      "\n",
      "A boy who accidentally bonds with a magical Beast must set off on an adventure in the mysterious Wo\n",
      "\n",
      "Broke young man + chainsaw dog demon = Chainsaw Man!Denji was a small-time devil hunter just trying\n",
      "\n",
      "This special Valentine's Day edition will feature a blood red theme throughout, including an exclus\n",
      "\n",
      "Whose truth is the lie? Stay up all night reading the sensational psychological thriller that has r\n",
      "\n",
      "God always keeps His promises, but not always in the way we expect….“Have faith” is a phrase we hea\n",
      "\n",
      "NEW YORK TIMES BESTSELLER “If you’re looking for a book to take on holiday this summer, The Seven H\n",
      "\n",
      "The Instant New York Times Bestseller and TikTok Sensation!As seen on THE VIEW!A BuzzFeed Best Summ\n",
      "\n",
      "From the host of Food Network’s Girl Meets Farm and bestselling author of the IACP award-winning Mo\n",
      "\n",
      "Tanjiro sets out on the path of the Demon Slayer to save his sister and avenge his family!In Taisho\n",
      "\n",
      "To gain the power he needs to save his friend from a cursed spirit, Yuji Itadori swallows a piece o\n",
      "\n",
      "From Colleen Hoover, the #1 New York Times bestselling author of It Ends with Us, a heart-wrenching\n",
      "\n",
      "Equal parts biography, musicology, and cultural history, Dilla Time chronicles the life and legacy \n",
      "\n",
      "THE NEW YORK TIMES BESTSELLING SERIES WITH OVER ONE MILLION COPIES SOLD• Everyone is talking about \n",
      "\n",
      "The #1 New York Times bestseller by the 7-time Super Bowl champion The first book by Tampa Bay Bucc\n",
      "\n",
      "An Instant New York Times Bestseller! Winner of the Coretta Scott King - John Steptoe for New Talen\n",
      "\n",
      "Written more than 70 years ago, 1984 was George Orwell’s chilling prophecy about the future. And wh\n",
      "\n",
      "He hates her...almost as much as he wants her.Gorgeous, cocky, and fast on his way to becoming a ho\n",
      "\n",
      "Tanjiro sets out on the path of the Demon Slayer to save his sister and avenge his family!In Taisho\n",
      "\n",
      "In this moving debut novel, two estranged siblings must set aside their differences to deal with th\n",
      "\n",
      "This Barnes & Noble Exclusive Edition includes a to/from dedication page that's perfect for gift gi\n",
      "\n",
      "A TikTok sensation, this rom-com about a young woman who agrees to fake date a colleague and bring \n",
      "\n",
      "“An audacious, entertaining page-turner. Dan Jones covers a thousand years of history with elegance\n",
      "\n",
      "From America’s most beloved superstar and its greatest storyteller—a thriller about a young singer-\n",
      "\n",
      "The #1 New York Times bestselling WORLDWIDE phenomenon   Winner of the Goodreads Choice Award for F\n"
     ]
    }
   ],
   "source": [
    "for url in list:        \n",
    "\n",
    "    with open(\"book_no\"+str(list.index(url)+1)+\".html\",encoding=\"utf-8\") as file:\n",
    "        htmlFile = file.read()\n",
    "    soup = BeautifulSoup(htmlFile, 'html.parser')\n",
    "    overview = soup.select('div[itemprop=\"description\"]')\n",
    "    for i in overview:\n",
    "        print(i.text[:100])                \n"
   ]
  }
 ],
 "metadata": {
  "kernelspec": {
   "display_name": "Python 3",
   "language": "python",
   "name": "python3"
  },
  "language_info": {
   "codemirror_mode": {
    "name": "ipython",
    "version": 3
   },
   "file_extension": ".py",
   "mimetype": "text/x-python",
   "name": "python",
   "nbconvert_exporter": "python",
   "pygments_lexer": "ipython3",
   "version": "3.8.8"
  }
 },
 "nbformat": 4,
 "nbformat_minor": 5
}
