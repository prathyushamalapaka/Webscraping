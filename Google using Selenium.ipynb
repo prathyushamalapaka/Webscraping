{
 "cells": [
  {
   "cell_type": "code",
   "execution_count": 3,
   "id": "9a8d28ca",
   "metadata": {},
   "outputs": [],
   "source": [
    "from selenium import webdriver\n",
    "from selenium.webdriver.common.keys import Keys\n",
    "import time\n",
    "from selenium.webdriver.chrome.options import Options\n",
    "from selenium.webdriver.common.keys import Keys\n",
    "import codecs\n",
    "import warnings\n",
    "\n",
    "warnings.filterwarnings('ignore')"
   ]
  },
  {
   "cell_type": "markdown",
   "id": "5e4762c9",
   "metadata": {},
   "source": [
    "**Searching for 'askew' and 'google in 1998' using Selenium**"
   ]
  },
  {
   "cell_type": "code",
   "execution_count": 4,
   "id": "eaa4e791",
   "metadata": {},
   "outputs": [],
   "source": [
    "driver = webdriver.Edge(executable_path='/Users/prath/Downloads/msedgedriver')\n",
    "driver.implicitly_wait(50)\n",
    "driver.set_script_timeout(120)\n",
    "driver.set_page_load_timeout(50)\n",
    "\n",
    "time.sleep(2)\n",
    "\n",
    "driver.get(\"https://google.com\");\n",
    "\n",
    "inp = driver.find_element_by_css_selector(\"input[type=text]\")\n",
    "inp.send_keys(\"askew\\n\")\n",
    "\n",
    "time.sleep(5)\n",
    "\n",
    "driver.implicitly_wait(50)\n",
    "driver.set_script_timeout(120)\n",
    "driver.set_page_load_timeout(50)\n",
    "\n",
    "driver.get(\"https://google.com\");\n",
    "inp = driver.find_element_by_css_selector(\"input[type=text]\")\n",
    "inp.send_keys(\"google in 1998\\n\")\n",
    "\n",
    "time.sleep(5)\n",
    "\n",
    "driver.quit()"
   ]
  }
 ],
 "metadata": {
  "kernelspec": {
   "display_name": "Python 3",
   "language": "python",
   "name": "python3"
  },
  "language_info": {
   "codemirror_mode": {
    "name": "ipython",
    "version": 3
   },
   "file_extension": ".py",
   "mimetype": "text/x-python",
   "name": "python",
   "nbconvert_exporter": "python",
   "pygments_lexer": "ipython3",
   "version": "3.8.8"
  }
 },
 "nbformat": 4,
 "nbformat_minor": 5
}
