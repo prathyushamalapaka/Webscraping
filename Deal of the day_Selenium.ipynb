{
 "cells": [
  {
   "cell_type": "markdown",
   "id": "178b5f82",
   "metadata": {},
   "source": [
    "**A script that goes to bestbuy.com, clicks on Deal of the Day, reads how much time is left for the Deal of the Day and prints the remaining time to screen (console)**"
   ]
  },
  {
   "cell_type": "code",
   "execution_count": 6,
   "id": "9a8d28ca",
   "metadata": {},
   "outputs": [],
   "source": [
    "from selenium import webdriver\n",
    "from selenium.webdriver.common.keys import Keys\n",
    "import time\n",
    "from selenium.webdriver.chrome.options import Options\n",
    "from selenium.webdriver.common.keys import Keys\n",
    "import codecs\n",
    "import warnings\n",
    "\n",
    "warnings.filterwarnings('ignore')"
   ]
  },
  {
   "cell_type": "code",
   "execution_count": 13,
   "id": "bc0f3220",
   "metadata": {},
   "outputs": [
    {
     "name": "stdout",
     "output_type": "stream",
     "text": [
      "09\n",
      "hours\n",
      ":\n",
      "43\n",
      "minutes\n",
      ":\n",
      "11\n",
      "seconds\n",
      "Sale expires in 9 hours and 44 minutes\n"
     ]
    }
   ],
   "source": [
    "driver = webdriver.Edge(executable_path='/Users/prath/Downloads/msedgedriver')\n",
    "\n",
    "options = Options()\n",
    "options.add_argument(\"--disable-notifications\")\n",
    "driver.implicitly_wait(50)\n",
    "driver.set_script_timeout(120)\n",
    "driver.set_page_load_timeout(50)\n",
    "\n",
    "driver.get(\"https://bestbuy.com\");    #Opening the website\n",
    "\n",
    "webdriver.ActionChains(driver).send_keys(Keys.ESCAPE).perform()   #Closing the pop-up window that appears when the website is opened\n",
    "\n",
    "dotd = driver.find_element_by_css_selector(\"a[data-lid='hdr_dotd']\")  #Clicking on \"Deal of the Day\"\n",
    "dotd.click()\n",
    "\n",
    "time_left=driver.find_element_by_xpath(xpath=\"/html/body/main/div/div/div/div/div/div/div/div/div/div/div/div/div/div/div/div/div/div\").text\n",
    "print(time_left)  #Obtaining the time left for the deal\n",
    "\n",
    "reviews=driver.find_element_by_css_selector(\"span[class='c-reviews-v4 c-reviews ']\")   #Clickiing on the reviews button to navigate there\n",
    "reviews.click()\n",
    "driver.find_element_by_xpath(\"/html/body\")    #Going into the wbepage containing reviews\n",
    "\n",
    "f = codecs.open(\"bestbuy_deal_of_the_day.htm\", \"w\", \"utf−8\")   #Saving the webpage in a html format\n",
    "h = driver.page_source\n",
    "f.write(h)\n",
    "\n",
    "driver.quit()"
   ]
  },
  {
   "cell_type": "code",
   "execution_count": null,
   "id": "66836677",
   "metadata": {},
   "outputs": [],
   "source": []
  }
 ],
 "metadata": {
  "kernelspec": {
   "display_name": "Python 3",
   "language": "python",
   "name": "python3"
  },
  "language_info": {
   "codemirror_mode": {
    "name": "ipython",
    "version": 3
   },
   "file_extension": ".py",
   "mimetype": "text/x-python",
   "name": "python",
   "nbconvert_exporter": "python",
   "pygments_lexer": "ipython3",
   "version": "3.8.8"
  }
 },
 "nbformat": 4,
 "nbformat_minor": 5
}
